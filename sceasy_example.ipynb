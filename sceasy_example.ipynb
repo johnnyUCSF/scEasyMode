{
 "cells": [
  {
   "cell_type": "code",
   "execution_count": 1,
   "metadata": {},
   "outputs": [
    {
     "ename": "SyntaxError",
     "evalue": "invalid syntax (clusterplot.py, line 85)",
     "output_type": "error",
     "traceback": [
      "Traceback \u001b[0;36m(most recent call last)\u001b[0m:\n",
      "  File \u001b[1;32m\"/avicenna/Johnny/envs/scanpy2/lib/python3.6/site-packages/IPython/core/interactiveshell.py\"\u001b[0m, line \u001b[1;32m3291\u001b[0m, in \u001b[1;35mrun_code\u001b[0m\n    exec(code_obj, self.user_global_ns, self.user_ns)\n",
      "\u001b[0;36m  File \u001b[0;32m\"<ipython-input-1-a126bae12689>\"\u001b[0;36m, line \u001b[0;32m9\u001b[0;36m, in \u001b[0;35m<module>\u001b[0;36m\u001b[0m\n\u001b[0;31m    from scEasyMode import clusterplot\u001b[0m\n",
      "\u001b[0;36m  File \u001b[0;32m\"/avicenna/Johnny/sc/TEMP/JYHG33/L0024/analysis/scEasyMode/clusterplot.py\"\u001b[0;36m, line \u001b[0;32m85\u001b[0m\n\u001b[0;31m    def plot(adata,covariates=['n_counts','n_genes','mt_frac','phase','louvain','dead','sig'],sample='sample')\u001b[0m\n\u001b[0m                                                                                                              ^\u001b[0m\n\u001b[0;31mSyntaxError\u001b[0m\u001b[0;31m:\u001b[0m invalid syntax\n"
     ]
    }
   ],
   "source": [
    "import scanpy as sc\n",
    "import numpy as np\n",
    "import matplotlib.pyplot as plt\n",
    "import pandas as pd\n",
    "import igraph\n",
    "import seaborn\n",
    "###\n",
    "from scEasyMode import mousefilter\n",
    "from scEasyMode import clusterplot\n",
    "from scEasyMode import pymulti\n",
    "from scEasyMode import sceasy"
   ]
  },
  {
   "cell_type": "markdown",
   "metadata": {},
   "source": [
    "### define files needed for multiseq processing"
   ]
  },
  {
   "cell_type": "code",
   "execution_count": null,
   "metadata": {},
   "outputs": [],
   "source": [
    "####define files\n",
    "R1 = '../multi_raw/L0027_R1.fastq.gz'\n",
    "R2 = '../multi_raw/L0027_R2.fastq.gz'\n",
    "####define metadata\n",
    "v10x = 'v3.1'\n",
    "expname = 'BGday6_'\n",
    "sampname = 'BGday6_'\n",
    "####define length of sequences\n",
    "len_10x = 16\n",
    "len_umi = 12\n",
    "len_multi = 8\n",
    "####define multiseq barcodes file\n",
    "bcfile = '../multi_raw/LMOlist_L0027.csv'\n",
    "bcsmulti = pd.read_csv(bcfile,sep=',',index_col=1,header=None)\n",
    "bcsmulti.columns = ['multi']\n",
    "bcsmulti = bcsmulti['multi'].tolist()\n",
    "####define 10x barcodes whitelist\n",
    "bc10xfile = '../multi_raw/barcodes.tsv'\n",
    "bcs10x = pd.read_csv(bc10xfile,sep='\\t',header=None)\n",
    "bcs10x['10x'] = bcs10x.apply(lambda row: row[0][:-2],axis=1)\n",
    "bcs10x = bcs10x['10x'].tolist()"
   ]
  },
  {
   "cell_type": "markdown",
   "metadata": {},
   "source": [
    "### run multiseq processing"
   ]
  },
  {
   "cell_type": "code",
   "execution_count": null,
   "metadata": {},
   "outputs": [],
   "source": [
    "pymulti.pymulti(R1,R2,bcsmulti,bcs10x,split=False)"
   ]
  },
  {
   "cell_type": "markdown",
   "metadata": {},
   "source": [
    "### split out mouse cells and human cells from data"
   ]
  },
  {
   "cell_type": "code",
   "execution_count": null,
   "metadata": {},
   "outputs": [],
   "source": [
    "file1 = 'filtered_feature_bc_mm10hg19_matrix.h5'\n",
    "file2 = 'filtered_feature_bc_hg38_matrix.h5'\n",
    "mouse,human = mousefilter.main(file1,file2)\n",
    "print(mouse.shape)\n",
    "print(human.shape)"
   ]
  },
  {
   "cell_type": "markdown",
   "metadata": {},
   "source": [
    "# overlay metadata"
   ]
  },
  {
   "cell_type": "code",
   "execution_count": null,
   "metadata": {},
   "outputs": [],
   "source": [
    "###read in data by species\n",
    "human = sceasy.read_species(human=True)\n",
    "###overlay metadata\n",
    "human = sceasy.overlay_meta(human,bcfile)\n",
    "###qc\n",
    "human = sceasy.qc_all(human)"
   ]
  },
  {
   "cell_type": "code",
   "execution_count": null,
   "metadata": {},
   "outputs": [],
   "source": [
    "###filtering by cells by mt_thresh\n",
    "##define\n",
    "mt_thresh = 0.3\n",
    "min_cells = 20\n",
    "##filter\n",
    "human,clean = sceasy.filters(human,mt_thresh,min_cells)"
   ]
  },
  {
   "cell_type": "markdown",
   "metadata": {},
   "source": [
    "# visualize"
   ]
  },
  {
   "cell_type": "code",
   "execution_count": null,
   "metadata": {},
   "outputs": [],
   "source": [
    "##visualize\n",
    "clean = sceasy.visualize(clean)"
   ]
  },
  {
   "cell_type": "markdown",
   "metadata": {},
   "source": [
    "# stack clusters by covariates"
   ]
  },
  {
   "cell_type": "code",
   "execution_count": null,
   "metadata": {},
   "outputs": [],
   "source": [
    "###get clusterplots\n",
    "clusterplot.plot(clean)"
   ]
  }
 ],
 "metadata": {
  "kernelspec": {
   "display_name": "Python 3",
   "language": "python",
   "name": "python3"
  },
  "language_info": {
   "codemirror_mode": {
    "name": "ipython",
    "version": 3
   },
   "file_extension": ".py",
   "mimetype": "text/x-python",
   "name": "python",
   "nbconvert_exporter": "python",
   "pygments_lexer": "ipython3",
   "version": "3.6.8"
  }
 },
 "nbformat": 4,
 "nbformat_minor": 4
}
